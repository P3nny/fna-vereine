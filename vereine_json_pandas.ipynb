{
 "cells": [
  {
   "cell_type": "markdown",
   "metadata": {},
   "source": [
    "# Vereine: Json into Pandas \n",
    "[http://hayd.github.io/2013/pandas-json/]"
   ]
  },
  {
   "cell_type": "code",
   "execution_count": 1,
   "metadata": {
    "collapsed": true
   },
   "outputs": [],
   "source": [
    "import pandas as pd\n",
    "import numpy as np\n",
    "import re\n",
    "import json\n",
    "import requests"
   ]
  },
  {
   "cell_type": "code",
   "execution_count": 2,
   "metadata": {
    "collapsed": false
   },
   "outputs": [],
   "source": [
    "def get_json():\n",
    "    r = requests.get('http://m.moers.de/www/verzeichnis-01.nsf/apijson.xsp/view-list-category1')\n",
    "    data = r.json()\n",
    "    return data"
   ]
  },
  {
   "cell_type": "code",
   "execution_count": 3,
   "metadata": {
    "collapsed": false
   },
   "outputs": [],
   "source": [
    "data = get_json()"
   ]
  },
  {
   "cell_type": "code",
   "execution_count": 4,
   "metadata": {
    "collapsed": true
   },
   "outputs": [],
   "source": [
    "from pandas.io.json import json_normalize"
   ]
  },
  {
   "cell_type": "code",
   "execution_count": 5,
   "metadata": {
    "collapsed": true
   },
   "outputs": [],
   "source": [
    "result = json_normalize(data)"
   ]
  },
  {
   "cell_type": "code",
   "execution_count": 6,
   "metadata": {
    "collapsed": false
   },
   "outputs": [
    {
     "data": {
      "text/html": [
       "<div>\n",
       "<table border=\"1\" class=\"dataframe\">\n",
       "  <thead>\n",
       "    <tr style=\"text-align: right;\">\n",
       "      <th></th>\n",
       "      <th>@category</th>\n",
       "      <th>@children</th>\n",
       "      <th>@entryid</th>\n",
       "      <th>@position</th>\n",
       "      <th>@siblings</th>\n",
       "      <th>@unid</th>\n",
       "      <th>DocName</th>\n",
       "      <th>Kategorie1</th>\n",
       "      <th>Kategorie2</th>\n",
       "      <th>Kategorie3</th>\n",
       "      <th>Key</th>\n",
       "      <th>Kurztext</th>\n",
       "      <th>SLat</th>\n",
       "      <th>SLng</th>\n",
       "      <th>Thumb</th>\n",
       "      <th>URL</th>\n",
       "    </tr>\n",
       "  </thead>\n",
       "  <tbody>\n",
       "    <tr>\n",
       "      <th>0</th>\n",
       "      <td>True</td>\n",
       "      <td>181.0</td>\n",
       "      <td>1-</td>\n",
       "      <td>1</td>\n",
       "      <td>5</td>\n",
       "      <td></td>\n",
       "      <td>NaN</td>\n",
       "      <td>NaN</td>\n",
       "      <td>NaN</td>\n",
       "      <td>NaN</td>\n",
       "      <td>--ALLE--</td>\n",
       "      <td>NaN</td>\n",
       "      <td>NaN</td>\n",
       "      <td>NaN</td>\n",
       "      <td>NaN</td>\n",
       "      <td>NaN</td>\n",
       "    </tr>\n",
       "    <tr>\n",
       "      <th>1</th>\n",
       "      <td>NaN</td>\n",
       "      <td>NaN</td>\n",
       "      <td>1.1-8019609A64B71B25C125724900488C5F</td>\n",
       "      <td>1.1</td>\n",
       "      <td>181</td>\n",
       "      <td>8019609A64B71B25C125724900488C5F</td>\n",
       "      <td>1. Shaolin-Kempo Verein Moers e.V.</td>\n",
       "      <td>[--ALLE--, Sportvereine]</td>\n",
       "      <td>[Asiatische Kampfkunst, Arnis, Budo, Chinesisc...</td>\n",
       "      <td></td>\n",
       "      <td>[--ALLE--, Sportvereine]</td>\n",
       "      <td></td>\n",
       "      <td>51.4518149</td>\n",
       "      <td>6.6424604</td>\n",
       "      <td></td>\n",
       "      <td>/www/verzeichnis-01.nsf/apijson.xsp/doc/801960...</td>\n",
       "    </tr>\n",
       "    <tr>\n",
       "      <th>2</th>\n",
       "      <td>NaN</td>\n",
       "      <td>NaN</td>\n",
       "      <td>1.2-58781416ABC1A877C125732F0037EEEE</td>\n",
       "      <td>1.2</td>\n",
       "      <td>181</td>\n",
       "      <td>58781416ABC1A877C125732F0037EEEE</td>\n",
       "      <td>AG Jazz-Kultur-Moers</td>\n",
       "      <td>[--ALLE--, Kulturvereine]</td>\n",
       "      <td>Chor und Musik</td>\n",
       "      <td></td>\n",
       "      <td>[--ALLE--, Kulturvereine]</td>\n",
       "      <td></td>\n",
       "      <td>51.4524100</td>\n",
       "      <td>6.6038000</td>\n",
       "      <td></td>\n",
       "      <td>/www/verzeichnis-01.nsf/apijson.xsp/doc/587814...</td>\n",
       "    </tr>\n",
       "    <tr>\n",
       "      <th>3</th>\n",
       "      <td>NaN</td>\n",
       "      <td>NaN</td>\n",
       "      <td>1.3-D5350D3910F318CBC125724900488C61</td>\n",
       "      <td>1.3</td>\n",
       "      <td>181</td>\n",
       "      <td>D5350D3910F318CBC125724900488C61</td>\n",
       "      <td>AG Justizsportgruppe NW e.V.</td>\n",
       "      <td>[--ALLE--, Sportvereine]</td>\n",
       "      <td>Ju-Jutsu</td>\n",
       "      <td></td>\n",
       "      <td>[--ALLE--, Sportvereine]</td>\n",
       "      <td></td>\n",
       "      <td>51.4028814</td>\n",
       "      <td>6.6577568</td>\n",
       "      <td></td>\n",
       "      <td>/www/verzeichnis-01.nsf/apijson.xsp/doc/D5350D...</td>\n",
       "    </tr>\n",
       "    <tr>\n",
       "      <th>4</th>\n",
       "      <td>NaN</td>\n",
       "      <td>NaN</td>\n",
       "      <td>1.4-199C2B067085AC38C12572FB003033A7</td>\n",
       "      <td>1.4</td>\n",
       "      <td>181</td>\n",
       "      <td>199C2B067085AC38C12572FB003033A7</td>\n",
       "      <td>Alevitisches Kulturzentrum Moers e.V.</td>\n",
       "      <td>[--ALLE--, Kulturvereine]</td>\n",
       "      <td>Sonstige Kulturvereine</td>\n",
       "      <td></td>\n",
       "      <td>[--ALLE--, Kulturvereine]</td>\n",
       "      <td></td>\n",
       "      <td>51.4507165</td>\n",
       "      <td>6.6400860</td>\n",
       "      <td></td>\n",
       "      <td>/www/verzeichnis-01.nsf/apijson.xsp/doc/199C2B...</td>\n",
       "    </tr>\n",
       "  </tbody>\n",
       "</table>\n",
       "</div>"
      ],
      "text/plain": [
       "  @category  @children                              @entryid @position  \\\n",
       "0      True      181.0                                    1-         1   \n",
       "1       NaN        NaN  1.1-8019609A64B71B25C125724900488C5F       1.1   \n",
       "2       NaN        NaN  1.2-58781416ABC1A877C125732F0037EEEE       1.2   \n",
       "3       NaN        NaN  1.3-D5350D3910F318CBC125724900488C61       1.3   \n",
       "4       NaN        NaN  1.4-199C2B067085AC38C12572FB003033A7       1.4   \n",
       "\n",
       "   @siblings                             @unid  \\\n",
       "0          5                                     \n",
       "1        181  8019609A64B71B25C125724900488C5F   \n",
       "2        181  58781416ABC1A877C125732F0037EEEE   \n",
       "3        181  D5350D3910F318CBC125724900488C61   \n",
       "4        181  199C2B067085AC38C12572FB003033A7   \n",
       "\n",
       "                                 DocName                 Kategorie1  \\\n",
       "0                                    NaN                        NaN   \n",
       "1     1. Shaolin-Kempo Verein Moers e.V.   [--ALLE--, Sportvereine]   \n",
       "2                   AG Jazz-Kultur-Moers  [--ALLE--, Kulturvereine]   \n",
       "3           AG Justizsportgruppe NW e.V.   [--ALLE--, Sportvereine]   \n",
       "4  Alevitisches Kulturzentrum Moers e.V.  [--ALLE--, Kulturvereine]   \n",
       "\n",
       "                                          Kategorie2 Kategorie3  \\\n",
       "0                                                NaN        NaN   \n",
       "1  [Asiatische Kampfkunst, Arnis, Budo, Chinesisc...              \n",
       "2                                     Chor und Musik              \n",
       "3                                           Ju-Jutsu              \n",
       "4                             Sonstige Kulturvereine              \n",
       "\n",
       "                         Key Kurztext        SLat       SLng Thumb  \\\n",
       "0                   --ALLE--      NaN         NaN        NaN   NaN   \n",
       "1   [--ALLE--, Sportvereine]           51.4518149  6.6424604         \n",
       "2  [--ALLE--, Kulturvereine]           51.4524100  6.6038000         \n",
       "3   [--ALLE--, Sportvereine]           51.4028814  6.6577568         \n",
       "4  [--ALLE--, Kulturvereine]           51.4507165  6.6400860         \n",
       "\n",
       "                                                 URL  \n",
       "0                                                NaN  \n",
       "1  /www/verzeichnis-01.nsf/apijson.xsp/doc/801960...  \n",
       "2  /www/verzeichnis-01.nsf/apijson.xsp/doc/587814...  \n",
       "3  /www/verzeichnis-01.nsf/apijson.xsp/doc/D5350D...  \n",
       "4  /www/verzeichnis-01.nsf/apijson.xsp/doc/199C2B...  "
      ]
     },
     "execution_count": 6,
     "metadata": {},
     "output_type": "execute_result"
    }
   ],
   "source": [
    "result.head()"
   ]
  },
  {
   "cell_type": "code",
   "execution_count": 7,
   "metadata": {
    "collapsed": false
   },
   "outputs": [],
   "source": [
    "vereine = result[['@position', 'DocName', 'Kategorie1', 'Kategorie2', 'SLat', 'SLng', 'URL']]"
   ]
  },
  {
   "cell_type": "code",
   "execution_count": 8,
   "metadata": {
    "collapsed": false
   },
   "outputs": [
    {
     "data": {
      "text/plain": [
       "381"
      ]
     },
     "execution_count": 8,
     "metadata": {},
     "output_type": "execute_result"
    }
   ],
   "source": [
    "len(vereine)"
   ]
  },
  {
   "cell_type": "code",
   "execution_count": 9,
   "metadata": {
    "collapsed": false
   },
   "outputs": [
    {
     "data": {
      "text/plain": [
       "pandas.core.frame.DataFrame"
      ]
     },
     "execution_count": 9,
     "metadata": {},
     "output_type": "execute_result"
    }
   ],
   "source": [
    "type(vereine)"
   ]
  },
  {
   "cell_type": "code",
   "execution_count": 10,
   "metadata": {
    "collapsed": false
   },
   "outputs": [
    {
     "data": {
      "text/plain": [
       "@position     object\n",
       "DocName       object\n",
       "Kategorie1    object\n",
       "Kategorie2    object\n",
       "SLat          object\n",
       "SLng          object\n",
       "URL           object\n",
       "dtype: object"
      ]
     },
     "execution_count": 10,
     "metadata": {},
     "output_type": "execute_result"
    }
   ],
   "source": [
    "vereine.dtypes"
   ]
  },
  {
   "cell_type": "code",
   "execution_count": 11,
   "metadata": {
    "collapsed": false
   },
   "outputs": [
    {
     "data": {
      "text/html": [
       "<div>\n",
       "<table border=\"1\" class=\"dataframe\">\n",
       "  <thead>\n",
       "    <tr style=\"text-align: right;\">\n",
       "      <th></th>\n",
       "      <th>@position</th>\n",
       "      <th>DocName</th>\n",
       "      <th>Kategorie1</th>\n",
       "      <th>Kategorie2</th>\n",
       "      <th>SLat</th>\n",
       "      <th>SLng</th>\n",
       "      <th>URL</th>\n",
       "    </tr>\n",
       "  </thead>\n",
       "  <tbody>\n",
       "    <tr>\n",
       "      <th>376</th>\n",
       "      <td>5.77</td>\n",
       "      <td>Verein für Sportfischer Kapellen 1967 e.V.</td>\n",
       "      <td>[--ALLE--, Sportvereine]</td>\n",
       "      <td>Angeln</td>\n",
       "      <td>51.4186812</td>\n",
       "      <td>6.5905474</td>\n",
       "      <td>/www/verzeichnis-01.nsf/apijson.xsp/doc/89FFF2...</td>\n",
       "    </tr>\n",
       "    <tr>\n",
       "      <th>377</th>\n",
       "      <td>5.78</td>\n",
       "      <td>VFL 08 Repelen e.V.</td>\n",
       "      <td>[--ALLE--, Sportvereine, Behindertensport]</td>\n",
       "      <td>[Aerobik und Stepaerobik, Badminton, Beach-Vol...</td>\n",
       "      <td>51.4821527</td>\n",
       "      <td>6.5997390</td>\n",
       "      <td>/www/verzeichnis-01.nsf/apijson.xsp/doc/6F0C42...</td>\n",
       "    </tr>\n",
       "    <tr>\n",
       "      <th>378</th>\n",
       "      <td>5.79</td>\n",
       "      <td>Wanderverein SGV-Moers</td>\n",
       "      <td>[--ALLE--, Sportvereine, Sonstige Vereine]</td>\n",
       "      <td>Wandern</td>\n",
       "      <td>51.4452173</td>\n",
       "      <td>6.6511603</td>\n",
       "      <td>/www/verzeichnis-01.nsf/apijson.xsp/doc/9C6FB3...</td>\n",
       "    </tr>\n",
       "    <tr>\n",
       "      <th>379</th>\n",
       "      <td>5.80</td>\n",
       "      <td>Wassersportverein Moers e.V.</td>\n",
       "      <td>[--ALLE--, Sportvereine]</td>\n",
       "      <td>[Eskimotieren, Gymnastik, Jogging, Kajak, Kanu...</td>\n",
       "      <td>51.4319800</td>\n",
       "      <td>6.6517900</td>\n",
       "      <td>/www/verzeichnis-01.nsf/apijson.xsp/doc/19794A...</td>\n",
       "    </tr>\n",
       "    <tr>\n",
       "      <th>380</th>\n",
       "      <td>5.81</td>\n",
       "      <td>Yoga Vidya e.V.</td>\n",
       "      <td>[--ALLE--, Sportvereine]</td>\n",
       "      <td>Yoga</td>\n",
       "      <td>51.4554500</td>\n",
       "      <td>6.6210675</td>\n",
       "      <td>/www/verzeichnis-01.nsf/apijson.xsp/doc/73C817...</td>\n",
       "    </tr>\n",
       "  </tbody>\n",
       "</table>\n",
       "</div>"
      ],
      "text/plain": [
       "    @position                                     DocName  \\\n",
       "376      5.77  Verein für Sportfischer Kapellen 1967 e.V.   \n",
       "377      5.78                         VFL 08 Repelen e.V.   \n",
       "378      5.79                      Wanderverein SGV-Moers   \n",
       "379      5.80                Wassersportverein Moers e.V.   \n",
       "380      5.81                             Yoga Vidya e.V.   \n",
       "\n",
       "                                     Kategorie1  \\\n",
       "376                    [--ALLE--, Sportvereine]   \n",
       "377  [--ALLE--, Sportvereine, Behindertensport]   \n",
       "378  [--ALLE--, Sportvereine, Sonstige Vereine]   \n",
       "379                    [--ALLE--, Sportvereine]   \n",
       "380                    [--ALLE--, Sportvereine]   \n",
       "\n",
       "                                            Kategorie2        SLat       SLng  \\\n",
       "376                                             Angeln  51.4186812  6.5905474   \n",
       "377  [Aerobik und Stepaerobik, Badminton, Beach-Vol...  51.4821527  6.5997390   \n",
       "378                                            Wandern  51.4452173  6.6511603   \n",
       "379  [Eskimotieren, Gymnastik, Jogging, Kajak, Kanu...  51.4319800  6.6517900   \n",
       "380                                               Yoga  51.4554500  6.6210675   \n",
       "\n",
       "                                                   URL  \n",
       "376  /www/verzeichnis-01.nsf/apijson.xsp/doc/89FFF2...  \n",
       "377  /www/verzeichnis-01.nsf/apijson.xsp/doc/6F0C42...  \n",
       "378  /www/verzeichnis-01.nsf/apijson.xsp/doc/9C6FB3...  \n",
       "379  /www/verzeichnis-01.nsf/apijson.xsp/doc/19794A...  \n",
       "380  /www/verzeichnis-01.nsf/apijson.xsp/doc/73C817...  "
      ]
     },
     "execution_count": 11,
     "metadata": {},
     "output_type": "execute_result"
    }
   ],
   "source": [
    "vereine.tail()"
   ]
  },
  {
   "cell_type": "code",
   "execution_count": null,
   "metadata": {
    "collapsed": true
   },
   "outputs": [],
   "source": []
  },
  {
   "cell_type": "code",
   "execution_count": 12,
   "metadata": {
    "collapsed": false
   },
   "outputs": [
    {
     "data": {
      "text/plain": [
       "381"
      ]
     },
     "execution_count": 12,
     "metadata": {},
     "output_type": "execute_result"
    }
   ],
   "source": [
    "len(vereine)"
   ]
  },
  {
   "cell_type": "code",
   "execution_count": 13,
   "metadata": {
    "collapsed": false
   },
   "outputs": [
    {
     "data": {
      "text/html": [
       "<div>\n",
       "<table border=\"1\" class=\"dataframe\">\n",
       "  <thead>\n",
       "    <tr style=\"text-align: right;\">\n",
       "      <th></th>\n",
       "      <th>@position</th>\n",
       "      <th>DocName</th>\n",
       "      <th>Kategorie1</th>\n",
       "      <th>Kategorie2</th>\n",
       "      <th>SLat</th>\n",
       "      <th>SLng</th>\n",
       "      <th>URL</th>\n",
       "    </tr>\n",
       "  </thead>\n",
       "  <tbody>\n",
       "    <tr>\n",
       "      <th>231</th>\n",
       "      <td>3.44</td>\n",
       "      <td>Kunstverein Peschkenhaus Moers e.V.</td>\n",
       "      <td>Kulturvereine</td>\n",
       "      <td>Kunst</td>\n",
       "      <td>51.4516612</td>\n",
       "      <td>6.6248672</td>\n",
       "      <td>/www/verzeichnis-01.nsf/apijson.xsp/doc/F7A66C...</td>\n",
       "    </tr>\n",
       "    <tr>\n",
       "      <th>262</th>\n",
       "      <td>3.75</td>\n",
       "      <td>Wakika e.V.</td>\n",
       "      <td>Kulturvereine</td>\n",
       "      <td>Sonstige Kulturvereine</td>\n",
       "      <td>51.4900543</td>\n",
       "      <td>6.6060806</td>\n",
       "      <td>/www/verzeichnis-01.nsf/apijson.xsp/doc/28A51D...</td>\n",
       "    </tr>\n",
       "  </tbody>\n",
       "</table>\n",
       "</div>"
      ],
      "text/plain": [
       "    @position                              DocName     Kategorie1  \\\n",
       "231      3.44  Kunstverein Peschkenhaus Moers e.V.  Kulturvereine   \n",
       "262      3.75                          Wakika e.V.  Kulturvereine   \n",
       "\n",
       "                 Kategorie2        SLat       SLng  \\\n",
       "231                   Kunst  51.4516612  6.6248672   \n",
       "262  Sonstige Kulturvereine  51.4900543  6.6060806   \n",
       "\n",
       "                                                   URL  \n",
       "231  /www/verzeichnis-01.nsf/apijson.xsp/doc/F7A66C...  \n",
       "262  /www/verzeichnis-01.nsf/apijson.xsp/doc/28A51D...  "
      ]
     },
     "execution_count": 13,
     "metadata": {},
     "output_type": "execute_result"
    }
   ],
   "source": [
    "### \n",
    "sport = vereine[vereine['Kategorie1'].str.contains('Kultur')==True]\n",
    "sport"
   ]
  },
  {
   "cell_type": "code",
   "execution_count": 15,
   "metadata": {
    "collapsed": false
   },
   "outputs": [
    {
     "data": {
      "text/html": [
       "<div>\n",
       "<table border=\"1\" class=\"dataframe\">\n",
       "  <thead>\n",
       "    <tr style=\"text-align: right;\">\n",
       "      <th></th>\n",
       "      <th>@position</th>\n",
       "      <th>DocName</th>\n",
       "      <th>Kategorie1</th>\n",
       "      <th>Kategorie2</th>\n",
       "      <th>SLat</th>\n",
       "      <th>SLng</th>\n",
       "      <th>URL</th>\n",
       "    </tr>\n",
       "  </thead>\n",
       "  <tbody>\n",
       "    <tr>\n",
       "      <th>129</th>\n",
       "      <td>1.129</td>\n",
       "      <td>SC Blau-Weiß Moers 1969 e.V.</td>\n",
       "      <td>[--ALLE--, Sportvereine]</td>\n",
       "      <td>Schwimmen</td>\n",
       "      <td>51.4598800</td>\n",
       "      <td>6.6674800</td>\n",
       "      <td>/www/verzeichnis-01.nsf/apijson.xsp/doc/30585A...</td>\n",
       "    </tr>\n",
       "    <tr>\n",
       "      <th>349</th>\n",
       "      <td>5.50</td>\n",
       "      <td>SC Blau-Weiß Moers 1969 e.V.</td>\n",
       "      <td>[--ALLE--, Sportvereine]</td>\n",
       "      <td>Schwimmen</td>\n",
       "      <td>51.4598800</td>\n",
       "      <td>6.6674800</td>\n",
       "      <td>/www/verzeichnis-01.nsf/apijson.xsp/doc/30585A...</td>\n",
       "    </tr>\n",
       "  </tbody>\n",
       "</table>\n",
       "</div>"
      ],
      "text/plain": [
       "    @position                       DocName                Kategorie1  \\\n",
       "129     1.129  SC Blau-Weiß Moers 1969 e.V.  [--ALLE--, Sportvereine]   \n",
       "349      5.50  SC Blau-Weiß Moers 1969 e.V.  [--ALLE--, Sportvereine]   \n",
       "\n",
       "    Kategorie2        SLat       SLng  \\\n",
       "129  Schwimmen  51.4598800  6.6674800   \n",
       "349  Schwimmen  51.4598800  6.6674800   \n",
       "\n",
       "                                                   URL  \n",
       "129  /www/verzeichnis-01.nsf/apijson.xsp/doc/30585A...  \n",
       "349  /www/verzeichnis-01.nsf/apijson.xsp/doc/30585A...  "
      ]
     },
     "execution_count": 15,
     "metadata": {},
     "output_type": "execute_result"
    }
   ],
   "source": [
    "schwimm = vereine[vereine['Kategorie2'].str.contains('Schwimm')==True]\n",
    "schwimm"
   ]
  },
  {
   "cell_type": "code",
   "execution_count": 16,
   "metadata": {
    "collapsed": true
   },
   "outputs": [],
   "source": [
    "vereine.columns = ['pos', 'name', 'cat1','cat2','x','y','url']"
   ]
  },
  {
   "cell_type": "code",
   "execution_count": 17,
   "metadata": {
    "collapsed": false
   },
   "outputs": [
    {
     "data": {
      "text/html": [
       "<div>\n",
       "<table border=\"1\" class=\"dataframe\">\n",
       "  <thead>\n",
       "    <tr style=\"text-align: right;\">\n",
       "      <th></th>\n",
       "      <th>pos</th>\n",
       "      <th>name</th>\n",
       "      <th>cat1</th>\n",
       "      <th>cat2</th>\n",
       "      <th>x</th>\n",
       "      <th>y</th>\n",
       "      <th>url</th>\n",
       "    </tr>\n",
       "  </thead>\n",
       "  <tbody>\n",
       "    <tr>\n",
       "      <th>0</th>\n",
       "      <td>1</td>\n",
       "      <td>NaN</td>\n",
       "      <td>NaN</td>\n",
       "      <td>NaN</td>\n",
       "      <td>NaN</td>\n",
       "      <td>NaN</td>\n",
       "      <td>NaN</td>\n",
       "    </tr>\n",
       "    <tr>\n",
       "      <th>1</th>\n",
       "      <td>1.1</td>\n",
       "      <td>1. Shaolin-Kempo Verein Moers e.V.</td>\n",
       "      <td>[--ALLE--, Sportvereine]</td>\n",
       "      <td>[Asiatische Kampfkunst, Arnis, Budo, Chinesisc...</td>\n",
       "      <td>51.4518149</td>\n",
       "      <td>6.6424604</td>\n",
       "      <td>/www/verzeichnis-01.nsf/apijson.xsp/doc/801960...</td>\n",
       "    </tr>\n",
       "    <tr>\n",
       "      <th>2</th>\n",
       "      <td>1.2</td>\n",
       "      <td>AG Jazz-Kultur-Moers</td>\n",
       "      <td>[--ALLE--, Kulturvereine]</td>\n",
       "      <td>Chor und Musik</td>\n",
       "      <td>51.4524100</td>\n",
       "      <td>6.6038000</td>\n",
       "      <td>/www/verzeichnis-01.nsf/apijson.xsp/doc/587814...</td>\n",
       "    </tr>\n",
       "    <tr>\n",
       "      <th>3</th>\n",
       "      <td>1.3</td>\n",
       "      <td>AG Justizsportgruppe NW e.V.</td>\n",
       "      <td>[--ALLE--, Sportvereine]</td>\n",
       "      <td>Ju-Jutsu</td>\n",
       "      <td>51.4028814</td>\n",
       "      <td>6.6577568</td>\n",
       "      <td>/www/verzeichnis-01.nsf/apijson.xsp/doc/D5350D...</td>\n",
       "    </tr>\n",
       "    <tr>\n",
       "      <th>4</th>\n",
       "      <td>1.4</td>\n",
       "      <td>Alevitisches Kulturzentrum Moers e.V.</td>\n",
       "      <td>[--ALLE--, Kulturvereine]</td>\n",
       "      <td>Sonstige Kulturvereine</td>\n",
       "      <td>51.4507165</td>\n",
       "      <td>6.6400860</td>\n",
       "      <td>/www/verzeichnis-01.nsf/apijson.xsp/doc/199C2B...</td>\n",
       "    </tr>\n",
       "  </tbody>\n",
       "</table>\n",
       "</div>"
      ],
      "text/plain": [
       "   pos                                   name                       cat1  \\\n",
       "0    1                                    NaN                        NaN   \n",
       "1  1.1     1. Shaolin-Kempo Verein Moers e.V.   [--ALLE--, Sportvereine]   \n",
       "2  1.2                   AG Jazz-Kultur-Moers  [--ALLE--, Kulturvereine]   \n",
       "3  1.3           AG Justizsportgruppe NW e.V.   [--ALLE--, Sportvereine]   \n",
       "4  1.4  Alevitisches Kulturzentrum Moers e.V.  [--ALLE--, Kulturvereine]   \n",
       "\n",
       "                                                cat2           x          y  \\\n",
       "0                                                NaN         NaN        NaN   \n",
       "1  [Asiatische Kampfkunst, Arnis, Budo, Chinesisc...  51.4518149  6.6424604   \n",
       "2                                     Chor und Musik  51.4524100  6.6038000   \n",
       "3                                           Ju-Jutsu  51.4028814  6.6577568   \n",
       "4                             Sonstige Kulturvereine  51.4507165  6.6400860   \n",
       "\n",
       "                                                 url  \n",
       "0                                                NaN  \n",
       "1  /www/verzeichnis-01.nsf/apijson.xsp/doc/801960...  \n",
       "2  /www/verzeichnis-01.nsf/apijson.xsp/doc/587814...  \n",
       "3  /www/verzeichnis-01.nsf/apijson.xsp/doc/D5350D...  \n",
       "4  /www/verzeichnis-01.nsf/apijson.xsp/doc/199C2B...  "
      ]
     },
     "execution_count": 17,
     "metadata": {},
     "output_type": "execute_result"
    }
   ],
   "source": [
    "vereine.head()"
   ]
  },
  {
   "cell_type": "code",
   "execution_count": 18,
   "metadata": {
    "collapsed": false
   },
   "outputs": [
    {
     "name": "stderr",
     "output_type": "stream",
     "text": [
      "/usr/local/lib/python3.4/dist-packages/ipykernel/__main__.py:1: SettingWithCopyWarning: \n",
      "A value is trying to be set on a copy of a slice from a DataFrame.\n",
      "Try using .loc[row_indexer,col_indexer] = value instead\n",
      "\n",
      "See the caveats in the documentation: http://pandas.pydata.org/pandas-docs/stable/indexing.html#indexing-view-versus-copy\n",
      "  if __name__ == '__main__':\n"
     ]
    }
   ],
   "source": [
    "vereine['id'] = vereine.index"
   ]
  },
  {
   "cell_type": "code",
   "execution_count": 19,
   "metadata": {
    "collapsed": false
   },
   "outputs": [
    {
     "data": {
      "text/html": [
       "<div>\n",
       "<table border=\"1\" class=\"dataframe\">\n",
       "  <thead>\n",
       "    <tr style=\"text-align: right;\">\n",
       "      <th></th>\n",
       "      <th>pos</th>\n",
       "      <th>name</th>\n",
       "      <th>cat1</th>\n",
       "      <th>cat2</th>\n",
       "      <th>x</th>\n",
       "      <th>y</th>\n",
       "      <th>url</th>\n",
       "      <th>id</th>\n",
       "    </tr>\n",
       "  </thead>\n",
       "  <tbody>\n",
       "    <tr>\n",
       "      <th>0</th>\n",
       "      <td>1</td>\n",
       "      <td>NaN</td>\n",
       "      <td>NaN</td>\n",
       "      <td>NaN</td>\n",
       "      <td>NaN</td>\n",
       "      <td>NaN</td>\n",
       "      <td>NaN</td>\n",
       "      <td>0</td>\n",
       "    </tr>\n",
       "    <tr>\n",
       "      <th>1</th>\n",
       "      <td>1.1</td>\n",
       "      <td>1. Shaolin-Kempo Verein Moers e.V.</td>\n",
       "      <td>[--ALLE--, Sportvereine]</td>\n",
       "      <td>[Asiatische Kampfkunst, Arnis, Budo, Chinesisc...</td>\n",
       "      <td>51.4518149</td>\n",
       "      <td>6.6424604</td>\n",
       "      <td>/www/verzeichnis-01.nsf/apijson.xsp/doc/801960...</td>\n",
       "      <td>1</td>\n",
       "    </tr>\n",
       "    <tr>\n",
       "      <th>2</th>\n",
       "      <td>1.2</td>\n",
       "      <td>AG Jazz-Kultur-Moers</td>\n",
       "      <td>[--ALLE--, Kulturvereine]</td>\n",
       "      <td>Chor und Musik</td>\n",
       "      <td>51.4524100</td>\n",
       "      <td>6.6038000</td>\n",
       "      <td>/www/verzeichnis-01.nsf/apijson.xsp/doc/587814...</td>\n",
       "      <td>2</td>\n",
       "    </tr>\n",
       "    <tr>\n",
       "      <th>3</th>\n",
       "      <td>1.3</td>\n",
       "      <td>AG Justizsportgruppe NW e.V.</td>\n",
       "      <td>[--ALLE--, Sportvereine]</td>\n",
       "      <td>Ju-Jutsu</td>\n",
       "      <td>51.4028814</td>\n",
       "      <td>6.6577568</td>\n",
       "      <td>/www/verzeichnis-01.nsf/apijson.xsp/doc/D5350D...</td>\n",
       "      <td>3</td>\n",
       "    </tr>\n",
       "    <tr>\n",
       "      <th>4</th>\n",
       "      <td>1.4</td>\n",
       "      <td>Alevitisches Kulturzentrum Moers e.V.</td>\n",
       "      <td>[--ALLE--, Kulturvereine]</td>\n",
       "      <td>Sonstige Kulturvereine</td>\n",
       "      <td>51.4507165</td>\n",
       "      <td>6.6400860</td>\n",
       "      <td>/www/verzeichnis-01.nsf/apijson.xsp/doc/199C2B...</td>\n",
       "      <td>4</td>\n",
       "    </tr>\n",
       "  </tbody>\n",
       "</table>\n",
       "</div>"
      ],
      "text/plain": [
       "   pos                                   name                       cat1  \\\n",
       "0    1                                    NaN                        NaN   \n",
       "1  1.1     1. Shaolin-Kempo Verein Moers e.V.   [--ALLE--, Sportvereine]   \n",
       "2  1.2                   AG Jazz-Kultur-Moers  [--ALLE--, Kulturvereine]   \n",
       "3  1.3           AG Justizsportgruppe NW e.V.   [--ALLE--, Sportvereine]   \n",
       "4  1.4  Alevitisches Kulturzentrum Moers e.V.  [--ALLE--, Kulturvereine]   \n",
       "\n",
       "                                                cat2           x          y  \\\n",
       "0                                                NaN         NaN        NaN   \n",
       "1  [Asiatische Kampfkunst, Arnis, Budo, Chinesisc...  51.4518149  6.6424604   \n",
       "2                                     Chor und Musik  51.4524100  6.6038000   \n",
       "3                                           Ju-Jutsu  51.4028814  6.6577568   \n",
       "4                             Sonstige Kulturvereine  51.4507165  6.6400860   \n",
       "\n",
       "                                                 url  id  \n",
       "0                                                NaN   0  \n",
       "1  /www/verzeichnis-01.nsf/apijson.xsp/doc/801960...   1  \n",
       "2  /www/verzeichnis-01.nsf/apijson.xsp/doc/587814...   2  \n",
       "3  /www/verzeichnis-01.nsf/apijson.xsp/doc/D5350D...   3  \n",
       "4  /www/verzeichnis-01.nsf/apijson.xsp/doc/199C2B...   4  "
      ]
     },
     "execution_count": 19,
     "metadata": {},
     "output_type": "execute_result"
    }
   ],
   "source": [
    "vereine.head()"
   ]
  },
  {
   "cell_type": "code",
   "execution_count": 20,
   "metadata": {
    "collapsed": false
   },
   "outputs": [
    {
     "data": {
      "text/plain": [
       "pandas.core.frame.DataFrame"
      ]
     },
     "execution_count": 20,
     "metadata": {},
     "output_type": "execute_result"
    }
   ],
   "source": [
    "type(vereine)"
   ]
  },
  {
   "cell_type": "code",
   "execution_count": null,
   "metadata": {
    "collapsed": false
   },
   "outputs": [],
   "source": []
  },
  {
   "cell_type": "code",
   "execution_count": 21,
   "metadata": {
    "collapsed": false
   },
   "outputs": [
    {
     "name": "stderr",
     "output_type": "stream",
     "text": [
      "/usr/local/lib/python3.4/dist-packages/ipykernel/__main__.py:4: SettingWithCopyWarning: \n",
      "A value is trying to be set on a copy of a slice from a DataFrame.\n",
      "Try using .loc[row_indexer,col_indexer] = value instead\n",
      "\n",
      "See the caveats in the documentation: http://pandas.pydata.org/pandas-docs/stable/indexing.html#indexing-view-versus-copy\n"
     ]
    }
   ],
   "source": [
    "# ??? Urls ersetzen \n",
    "# s3.str.replace('^.a|dog', 'XX-XX ', case=False)\n",
    "\n",
    "vereine['url'] = vereine['url'].str.replace('/www', 'http://m.moers.de/www', case=False)\n"
   ]
  },
  {
   "cell_type": "code",
   "execution_count": 22,
   "metadata": {
    "collapsed": false
   },
   "outputs": [
    {
     "data": {
      "text/plain": [
       "pos     object\n",
       "name    object\n",
       "cat1    object\n",
       "cat2    object\n",
       "x       object\n",
       "y       object\n",
       "url     object\n",
       "id       int64\n",
       "dtype: object"
      ]
     },
     "execution_count": 22,
     "metadata": {},
     "output_type": "execute_result"
    }
   ],
   "source": [
    "vereine.dtypes"
   ]
  },
  {
   "cell_type": "code",
   "execution_count": 23,
   "metadata": {
    "collapsed": false
   },
   "outputs": [
    {
     "name": "stderr",
     "output_type": "stream",
     "text": [
      "/usr/local/lib/python3.4/dist-packages/ipykernel/__main__.py:2: SettingWithCopyWarning: \n",
      "A value is trying to be set on a copy of a slice from a DataFrame.\n",
      "Try using .loc[row_indexer,col_indexer] = value instead\n",
      "\n",
      "See the caveats in the documentation: http://pandas.pydata.org/pandas-docs/stable/indexing.html#indexing-view-versus-copy\n",
      "  from ipykernel import kernelapp as app\n",
      "/usr/local/lib/python3.4/dist-packages/ipykernel/__main__.py:3: SettingWithCopyWarning: \n",
      "A value is trying to be set on a copy of a slice from a DataFrame.\n",
      "Try using .loc[row_indexer,col_indexer] = value instead\n",
      "\n",
      "See the caveats in the documentation: http://pandas.pydata.org/pandas-docs/stable/indexing.html#indexing-view-versus-copy\n",
      "  app.launch_new_instance()\n"
     ]
    }
   ],
   "source": [
    "# datentyp ändern \n",
    "vereine['x'] = pd.to_numeric(vereine['x'], errors='coerce')\n",
    "vereine['y'] = pd.to_numeric(vereine['y'], errors='coerce')"
   ]
  },
  {
   "cell_type": "code",
   "execution_count": 24,
   "metadata": {
    "collapsed": false
   },
   "outputs": [
    {
     "data": {
      "text/plain": [
       "pos      object\n",
       "name     object\n",
       "cat1     object\n",
       "cat2     object\n",
       "x       float64\n",
       "y       float64\n",
       "url      object\n",
       "id        int64\n",
       "dtype: object"
      ]
     },
     "execution_count": 24,
     "metadata": {},
     "output_type": "execute_result"
    }
   ],
   "source": [
    "vereine.dtypes"
   ]
  },
  {
   "cell_type": "code",
   "execution_count": 25,
   "metadata": {
    "collapsed": false
   },
   "outputs": [
    {
     "data": {
      "text/plain": [
       "189"
      ]
     },
     "execution_count": 25,
     "metadata": {},
     "output_type": "execute_result"
    }
   ],
   "source": [
    "vereine = vereine.drop_duplicates(['name'])\n",
    "len(vereine)"
   ]
  },
  {
   "cell_type": "code",
   "execution_count": 26,
   "metadata": {
    "collapsed": false
   },
   "outputs": [
    {
     "data": {
      "text/plain": [
       "189"
      ]
     },
     "execution_count": 26,
     "metadata": {},
     "output_type": "execute_result"
    }
   ],
   "source": [
    "len(vereine)"
   ]
  },
  {
   "cell_type": "code",
   "execution_count": 27,
   "metadata": {
    "collapsed": false
   },
   "outputs": [
    {
     "data": {
      "text/plain": [
       "True"
      ]
     },
     "execution_count": 27,
     "metadata": {},
     "output_type": "execute_result"
    }
   ],
   "source": [
    "vereine.isnull().values.any()"
   ]
  },
  {
   "cell_type": "code",
   "execution_count": 28,
   "metadata": {
    "collapsed": false
   },
   "outputs": [],
   "source": [
    "vereine = vereine[vereine.x.notnull()]"
   ]
  },
  {
   "cell_type": "code",
   "execution_count": 29,
   "metadata": {
    "collapsed": false
   },
   "outputs": [
    {
     "data": {
      "text/plain": [
       "181"
      ]
     },
     "execution_count": 29,
     "metadata": {},
     "output_type": "execute_result"
    }
   ],
   "source": [
    "len(vereine)"
   ]
  },
  {
   "cell_type": "code",
   "execution_count": null,
   "metadata": {
    "collapsed": true
   },
   "outputs": [],
   "source": [
    "vereine.to_csv('vereine.csv')"
   ]
  },
  {
   "cell_type": "code",
   "execution_count": null,
   "metadata": {
    "collapsed": true
   },
   "outputs": [],
   "source": []
  },
  {
   "cell_type": "code",
   "execution_count": null,
   "metadata": {
    "collapsed": true
   },
   "outputs": [],
   "source": []
  },
  {
   "cell_type": "code",
   "execution_count": null,
   "metadata": {
    "collapsed": true
   },
   "outputs": [],
   "source": []
  }
 ],
 "metadata": {
  "kernelspec": {
   "display_name": "Python 3",
   "language": "python",
   "name": "python3"
  },
  "language_info": {
   "codemirror_mode": {
    "name": "ipython",
    "version": 3
   },
   "file_extension": ".py",
   "mimetype": "text/x-python",
   "name": "python",
   "nbconvert_exporter": "python",
   "pygments_lexer": "ipython3",
   "version": "3.4.2"
  }
 },
 "nbformat": 4,
 "nbformat_minor": 0
}
